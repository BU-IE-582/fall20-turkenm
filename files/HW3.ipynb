{
 "cells": [
  {
   "cell_type": "code",
   "execution_count": 1,
   "metadata": {},
   "outputs": [],
   "source": [
    "import numpy as np\n",
    "import pandas as pd \n",
    "import statistics"
   ]
  },
  {
   "cell_type": "code",
   "execution_count": 2,
   "metadata": {},
   "outputs": [],
   "source": [
    "df_16 = pd.read_csv(\"2016.csv\", encoding = \"windows-1254\")\n",
    "df_17 = pd.read_csv(\"2017.csv\", encoding = \"windows-1254\")\n",
    "df_18 = pd.read_csv(\"2018.csv\", encoding = \"windows-1254\")\n",
    "df_19 = pd.read_csv(\"2019.csv\", encoding = \"windows-1254\")\n",
    "df_20 = pd.read_csv(\"2020.csv\", encoding = \"windows-1254\")"
   ]
  },
  {
   "cell_type": "code",
   "execution_count": 3,
   "metadata": {},
   "outputs": [
    {
     "data": {
      "text/html": [
       "<div>\n",
       "<style scoped>\n",
       "    .dataframe tbody tr th:only-of-type {\n",
       "        vertical-align: middle;\n",
       "    }\n",
       "\n",
       "    .dataframe tbody tr th {\n",
       "        vertical-align: top;\n",
       "    }\n",
       "\n",
       "    .dataframe thead th {\n",
       "        text-align: right;\n",
       "    }\n",
       "</style>\n",
       "<table border=\"1\" class=\"dataframe\">\n",
       "  <thead>\n",
       "    <tr style=\"text-align: right;\">\n",
       "      <th></th>\n",
       "      <th>Tarih</th>\n",
       "      <th>Saat</th>\n",
       "      <th>Tüketim Miktarı (MWh)</th>\n",
       "      <th>dec</th>\n",
       "    </tr>\n",
       "  </thead>\n",
       "  <tbody>\n",
       "    <tr>\n",
       "      <th>0</th>\n",
       "      <td>01.01.2016</td>\n",
       "      <td>00:00</td>\n",
       "      <td>26.277</td>\n",
       "      <td>24</td>\n",
       "    </tr>\n",
       "    <tr>\n",
       "      <th>1</th>\n",
       "      <td>01.01.2016</td>\n",
       "      <td>01:00</td>\n",
       "      <td>24.991</td>\n",
       "      <td>82</td>\n",
       "    </tr>\n",
       "    <tr>\n",
       "      <th>2</th>\n",
       "      <td>01.01.2016</td>\n",
       "      <td>02:00</td>\n",
       "      <td>23.532</td>\n",
       "      <td>61</td>\n",
       "    </tr>\n",
       "    <tr>\n",
       "      <th>3</th>\n",
       "      <td>01.01.2016</td>\n",
       "      <td>03:00</td>\n",
       "      <td>22.464</td>\n",
       "      <td>78</td>\n",
       "    </tr>\n",
       "    <tr>\n",
       "      <th>4</th>\n",
       "      <td>01.01.2016</td>\n",
       "      <td>04:00</td>\n",
       "      <td>22.002</td>\n",
       "      <td>91</td>\n",
       "    </tr>\n",
       "  </tbody>\n",
       "</table>\n",
       "</div>"
      ],
      "text/plain": [
       "        Tarih   Saat  Tüketim Miktarı (MWh)  dec\n",
       "0  01.01.2016  00:00                 26.277   24\n",
       "1  01.01.2016  01:00                 24.991   82\n",
       "2  01.01.2016  02:00                 23.532   61\n",
       "3  01.01.2016  03:00                 22.464   78\n",
       "4  01.01.2016  04:00                 22.002   91"
      ]
     },
     "execution_count": 3,
     "metadata": {},
     "output_type": "execute_result"
    }
   ],
   "source": [
    "df_16.head()"
   ]
  },
  {
   "cell_type": "code",
   "execution_count": 4,
   "metadata": {},
   "outputs": [],
   "source": [
    "## Preparation for data\n",
    "def df_proces (X):\n",
    "    X[\"Tüketim Miktarı (MWh)\"] = X[\"Tüketim Miktarı (MWh)\"] * 1000\n",
    "    X[\"Tüketim Miktarı (MWh)\"] = X[\"Tüketim Miktarı (MWh)\"] + X[\"dec\"] / 100\n",
    "    X.drop(columns = [\"dec\"], inplace = True)\n",
    "    return X"
   ]
  },
  {
   "cell_type": "code",
   "execution_count": 5,
   "metadata": {},
   "outputs": [],
   "source": [
    "data = [df_16, df_17, df_18, df_19, df_20]"
   ]
  },
  {
   "cell_type": "code",
   "execution_count": 6,
   "metadata": {},
   "outputs": [],
   "source": [
    "for i in data: \n",
    "    df_proces(i)\n",
    "df = pd.concat(data, ignore_index = True)\n",
    "df.rename(columns = {\"Tüketim Miktarı (MWh)\" : \"mwh\"}, inplace = True)"
   ]
  },
  {
   "cell_type": "code",
   "execution_count": 7,
   "metadata": {},
   "outputs": [
    {
     "data": {
      "text/html": [
       "<div>\n",
       "<style scoped>\n",
       "    .dataframe tbody tr th:only-of-type {\n",
       "        vertical-align: middle;\n",
       "    }\n",
       "\n",
       "    .dataframe tbody tr th {\n",
       "        vertical-align: top;\n",
       "    }\n",
       "\n",
       "    .dataframe thead th {\n",
       "        text-align: right;\n",
       "    }\n",
       "</style>\n",
       "<table border=\"1\" class=\"dataframe\">\n",
       "  <thead>\n",
       "    <tr style=\"text-align: right;\">\n",
       "      <th></th>\n",
       "      <th>Tarih</th>\n",
       "      <th>Saat</th>\n",
       "      <th>Tüketim Miktarı (MWh)</th>\n",
       "    </tr>\n",
       "  </thead>\n",
       "  <tbody>\n",
       "    <tr>\n",
       "      <th>0</th>\n",
       "      <td>01.01.2016</td>\n",
       "      <td>00:00</td>\n",
       "      <td>26277.24</td>\n",
       "    </tr>\n",
       "    <tr>\n",
       "      <th>1</th>\n",
       "      <td>01.01.2016</td>\n",
       "      <td>01:00</td>\n",
       "      <td>24991.82</td>\n",
       "    </tr>\n",
       "    <tr>\n",
       "      <th>2</th>\n",
       "      <td>01.01.2016</td>\n",
       "      <td>02:00</td>\n",
       "      <td>23532.61</td>\n",
       "    </tr>\n",
       "    <tr>\n",
       "      <th>3</th>\n",
       "      <td>01.01.2016</td>\n",
       "      <td>03:00</td>\n",
       "      <td>22464.78</td>\n",
       "    </tr>\n",
       "    <tr>\n",
       "      <th>4</th>\n",
       "      <td>01.01.2016</td>\n",
       "      <td>04:00</td>\n",
       "      <td>22002.91</td>\n",
       "    </tr>\n",
       "  </tbody>\n",
       "</table>\n",
       "</div>"
      ],
      "text/plain": [
       "        Tarih   Saat  Tüketim Miktarı (MWh)\n",
       "0  01.01.2016  00:00               26277.24\n",
       "1  01.01.2016  01:00               24991.82\n",
       "2  01.01.2016  02:00               23532.61\n",
       "3  01.01.2016  03:00               22464.78\n",
       "4  01.01.2016  04:00               22002.91"
      ]
     },
     "execution_count": 7,
     "metadata": {},
     "output_type": "execute_result"
    }
   ],
   "source": [
    "df_16.head()"
   ]
  },
  {
   "cell_type": "code",
   "execution_count": 8,
   "metadata": {},
   "outputs": [],
   "source": [
    "df[\"Tarih\"] = pd.to_datetime(df[\"Tarih\"], dayfirst = True)"
   ]
  },
  {
   "cell_type": "code",
   "execution_count": 9,
   "metadata": {},
   "outputs": [],
   "source": [
    "## Creating lag values\n",
    "df[\"lag_48\"] = df[\"mwh\"].shift(48)\n",
    "df[\"lag_168\"] = df[\"mwh\"].shift(168)"
   ]
  },
  {
   "cell_type": "code",
   "execution_count": 29,
   "metadata": {
    "scrolled": true
   },
   "outputs": [],
   "source": [
    "## Creating test data\n",
    "test_df = df[df[\"Tarih\"]>= \"2020-11-01\"]"
   ]
  },
  {
   "cell_type": "code",
   "execution_count": 11,
   "metadata": {},
   "outputs": [],
   "source": [
    "def mape(y_act, y_pred):\n",
    "    return np.mean(np.abs((y_act - y_pred) / y_act)) * 100"
   ]
  },
  {
   "cell_type": "code",
   "execution_count": 12,
   "metadata": {},
   "outputs": [
    {
     "data": {
      "text/html": [
       "<div>\n",
       "<style scoped>\n",
       "    .dataframe tbody tr th:only-of-type {\n",
       "        vertical-align: middle;\n",
       "    }\n",
       "\n",
       "    .dataframe tbody tr th {\n",
       "        vertical-align: top;\n",
       "    }\n",
       "\n",
       "    .dataframe thead th {\n",
       "        text-align: right;\n",
       "    }\n",
       "</style>\n",
       "<table border=\"1\" class=\"dataframe\">\n",
       "  <thead>\n",
       "    <tr style=\"text-align: right;\">\n",
       "      <th></th>\n",
       "      <th>Tarih</th>\n",
       "      <th>Saat</th>\n",
       "      <th>mwh</th>\n",
       "      <th>lag_48</th>\n",
       "      <th>lag_168</th>\n",
       "    </tr>\n",
       "  </thead>\n",
       "  <tbody>\n",
       "    <tr>\n",
       "      <th>2066</th>\n",
       "      <td>2016-03-27</td>\n",
       "      <td>02:00</td>\n",
       "      <td>0.0</td>\n",
       "      <td>25524.5</td>\n",
       "      <td>24546.43</td>\n",
       "    </tr>\n",
       "  </tbody>\n",
       "</table>\n",
       "</div>"
      ],
      "text/plain": [
       "          Tarih   Saat  mwh   lag_48   lag_168\n",
       "2066 2016-03-27  02:00  0.0  25524.5  24546.43"
      ]
     },
     "execution_count": 12,
     "metadata": {},
     "output_type": "execute_result"
    }
   ],
   "source": [
    "## Because of the zero division error, I should check tha data\n",
    "df[df[\"mwh\"]==0]"
   ]
  },
  {
   "cell_type": "code",
   "execution_count": 13,
   "metadata": {},
   "outputs": [],
   "source": [
    "df.drop(index = [2066], axis = 0, inplace = True)"
   ]
  },
  {
   "cell_type": "code",
   "execution_count": 14,
   "metadata": {},
   "outputs": [
    {
     "data": {
      "text/plain": [
       "7.789204389494431"
      ]
     },
     "execution_count": 14,
     "metadata": {},
     "output_type": "execute_result"
    }
   ],
   "source": [
    "mape(test_df[\"mwh\"], test_df[\"lag_48\"])"
   ]
  },
  {
   "cell_type": "code",
   "execution_count": 15,
   "metadata": {},
   "outputs": [
    {
     "data": {
      "text/plain": [
       "3.4536690170083504"
      ]
     },
     "execution_count": 15,
     "metadata": {},
     "output_type": "execute_result"
    }
   ],
   "source": [
    "mape(test_df[\"mwh\"], test_df[\"lag_168\"])"
   ]
  },
  {
   "cell_type": "code",
   "execution_count": 16,
   "metadata": {},
   "outputs": [],
   "source": [
    "df.reset_index(inplace = True, drop = True)\n"
   ]
  },
  {
   "cell_type": "markdown",
   "metadata": {},
   "source": [
    "As it can be seen from the mape results, using lag_168 values as regressors, is more successful than the lag_48 values. Before testing the results, intuitively using the last week’s same day and same hour values (lag_168) for predicting next day consumption is more sensible than two days before the values. The results confirmed intuition. "
   ]
  },
  {
   "cell_type": "markdown",
   "metadata": {},
   "source": [
    "## Part B"
   ]
  },
  {
   "cell_type": "code",
   "execution_count": 17,
   "metadata": {},
   "outputs": [],
   "source": [
    "from sklearn.linear_model import LinearRegression"
   ]
  },
  {
   "cell_type": "code",
   "execution_count": 18,
   "metadata": {},
   "outputs": [],
   "source": [
    "## I want to use hour values as a variable for linear regression so I convert the hour data as a number.\n",
    "x = []\n",
    "for i in range(len(df)):\n",
    "    x.append(df[\"Saat\"][i][:-3])\n",
    "df[\"Saat\"] = x"
   ]
  },
  {
   "cell_type": "code",
   "execution_count": 21,
   "metadata": {},
   "outputs": [],
   "source": [
    "df[\"Saat\"] = pd.to_numeric(df[\"Saat\"])"
   ]
  },
  {
   "cell_type": "code",
   "execution_count": 22,
   "metadata": {},
   "outputs": [
    {
     "data": {
      "text/html": [
       "<div>\n",
       "<style scoped>\n",
       "    .dataframe tbody tr th:only-of-type {\n",
       "        vertical-align: middle;\n",
       "    }\n",
       "\n",
       "    .dataframe tbody tr th {\n",
       "        vertical-align: top;\n",
       "    }\n",
       "\n",
       "    .dataframe thead th {\n",
       "        text-align: right;\n",
       "    }\n",
       "</style>\n",
       "<table border=\"1\" class=\"dataframe\">\n",
       "  <thead>\n",
       "    <tr style=\"text-align: right;\">\n",
       "      <th></th>\n",
       "      <th>Tarih</th>\n",
       "      <th>Saat</th>\n",
       "      <th>mwh</th>\n",
       "      <th>lag_48</th>\n",
       "      <th>lag_168</th>\n",
       "    </tr>\n",
       "  </thead>\n",
       "  <tbody>\n",
       "    <tr>\n",
       "      <th>0</th>\n",
       "      <td>2016-01-01</td>\n",
       "      <td>0</td>\n",
       "      <td>26277.24</td>\n",
       "      <td>NaN</td>\n",
       "      <td>NaN</td>\n",
       "    </tr>\n",
       "    <tr>\n",
       "      <th>1</th>\n",
       "      <td>2016-01-01</td>\n",
       "      <td>1</td>\n",
       "      <td>24991.82</td>\n",
       "      <td>NaN</td>\n",
       "      <td>NaN</td>\n",
       "    </tr>\n",
       "    <tr>\n",
       "      <th>2</th>\n",
       "      <td>2016-01-01</td>\n",
       "      <td>2</td>\n",
       "      <td>23532.61</td>\n",
       "      <td>NaN</td>\n",
       "      <td>NaN</td>\n",
       "    </tr>\n",
       "    <tr>\n",
       "      <th>3</th>\n",
       "      <td>2016-01-01</td>\n",
       "      <td>3</td>\n",
       "      <td>22464.78</td>\n",
       "      <td>NaN</td>\n",
       "      <td>NaN</td>\n",
       "    </tr>\n",
       "    <tr>\n",
       "      <th>4</th>\n",
       "      <td>2016-01-01</td>\n",
       "      <td>4</td>\n",
       "      <td>22002.91</td>\n",
       "      <td>NaN</td>\n",
       "      <td>NaN</td>\n",
       "    </tr>\n",
       "  </tbody>\n",
       "</table>\n",
       "</div>"
      ],
      "text/plain": [
       "       Tarih  Saat       mwh  lag_48  lag_168\n",
       "0 2016-01-01     0  26277.24     NaN      NaN\n",
       "1 2016-01-01     1  24991.82     NaN      NaN\n",
       "2 2016-01-01     2  23532.61     NaN      NaN\n",
       "3 2016-01-01     3  22464.78     NaN      NaN\n",
       "4 2016-01-01     4  22002.91     NaN      NaN"
      ]
     },
     "execution_count": 22,
     "metadata": {},
     "output_type": "execute_result"
    }
   ],
   "source": [
    "df.head()"
   ]
  },
  {
   "cell_type": "code",
   "execution_count": 31,
   "metadata": {},
   "outputs": [],
   "source": [
    "train_df = df.dropna()\n",
    "train_df = train_df[train_df[\"Tarih\"]< \"2020-11-01\"]"
   ]
  },
  {
   "cell_type": "code",
   "execution_count": 32,
   "metadata": {},
   "outputs": [],
   "source": [
    "x_train = train_df.drop([\"mwh\",\"Tarih\"], axis = 1)\n",
    "y_train = train_df[\"mwh\"]"
   ]
  },
  {
   "cell_type": "code",
   "execution_count": 33,
   "metadata": {},
   "outputs": [],
   "source": [
    "y_test = test_df[\"mwh\"]\n",
    "x_test = test_df.drop([\"mwh\",\"Tarih\"], axis = 1)"
   ]
  },
  {
   "cell_type": "code",
   "execution_count": 34,
   "metadata": {},
   "outputs": [],
   "source": [
    "model = LinearRegression()"
   ]
  },
  {
   "cell_type": "code",
   "execution_count": 35,
   "metadata": {},
   "outputs": [],
   "source": [
    "model.fit(x_train,y_train)\n",
    "y_pred = model.predict(x_test)"
   ]
  },
  {
   "cell_type": "code",
   "execution_count": 36,
   "metadata": {},
   "outputs": [
    {
     "data": {
      "text/plain": [
       "4.129599053606711"
      ]
     },
     "execution_count": 36,
     "metadata": {},
     "output_type": "execute_result"
    }
   ],
   "source": [
    "mape(y_test, y_pred)"
   ]
  },
  {
   "cell_type": "markdown",
   "metadata": {},
   "source": [
    "- MAPE Lag 48 = 7.789  \n",
    "- MAPE Lag 168 = 3.453  \n",
    "- MAPE Linear Regression = 4.129"
   ]
  },
  {
   "cell_type": "markdown",
   "metadata": {},
   "source": [
    "Linear Regression model is better than lag 48 regressor but it still get behind the lag 168 regressor."
   ]
  },
  {
   "cell_type": "markdown",
   "metadata": {},
   "source": [
    "## Part C"
   ]
  },
  {
   "cell_type": "code",
   "execution_count": 37,
   "metadata": {},
   "outputs": [],
   "source": [
    "def lin_reg (x_train, y_train, x_test, y_test):\n",
    "    model = LinearRegression()\n",
    "    model.fit(x_train,y_train)\n",
    "    yy_pred = model.predict(x_test)\n",
    "    mape_res = mape(y_test, yy_pred)\n",
    "    coef = model.coef_\n",
    "    return yy_pred, mape_res, coef"
   ]
  },
  {
   "cell_type": "code",
   "execution_count": 38,
   "metadata": {},
   "outputs": [
    {
     "name": "stdout",
     "output_type": "stream",
     "text": [
      "------------------------------------------\n",
      "Hour : 0\n",
      "Hourly Mape: 0  =  3.2668954330862214\n",
      "Coefficients : 0 [0.48688307 0.44283593]\n",
      "------------------------------------------\n",
      "Hour : 1\n",
      "Hourly Mape: 1  =  3.269987276090032\n",
      "Coefficients : 1 [0.49195523 0.43642319]\n",
      "------------------------------------------\n",
      "Hour : 2\n",
      "Hourly Mape: 2  =  3.3880215216792435\n",
      "Coefficients : 2 [0.47390162 0.41952495]\n",
      "------------------------------------------\n",
      "Hour : 3\n",
      "Hourly Mape: 3  =  3.1903589208889556\n",
      "Coefficients : 3 [0.49279757 0.42695905]\n",
      "------------------------------------------\n",
      "Hour : 4\n",
      "Hourly Mape: 4  =  3.1680997634309196\n",
      "Coefficients : 4 [0.47468522 0.44493902]\n",
      "------------------------------------------\n",
      "Hour : 5\n",
      "Hourly Mape: 5  =  3.1566336972729077\n",
      "Coefficients : 5 [0.43984866 0.47845986]\n",
      "------------------------------------------\n",
      "Hour : 6\n",
      "Hourly Mape: 6  =  3.1313439692798304\n",
      "Coefficients : 6 [0.37596355 0.5462    ]\n",
      "------------------------------------------\n",
      "Hour : 7\n",
      "Hourly Mape: 7  =  3.7474478858701623\n",
      "Coefficients : 7 [0.26631259 0.65283046]\n",
      "------------------------------------------\n",
      "Hour : 8\n",
      "Hourly Mape: 8  =  4.590345024409482\n",
      "Coefficients : 8 [0.17372354 0.72554291]\n",
      "------------------------------------------\n",
      "Hour : 9\n",
      "Hourly Mape: 9  =  5.299839567036255\n",
      "Coefficients : 9 [0.17437941 0.72065826]\n",
      "------------------------------------------\n",
      "Hour : 10\n",
      "Hourly Mape: 10  =  5.841778870643695\n",
      "Coefficients : 10 [0.20620888 0.6868558 ]\n",
      "------------------------------------------\n",
      "Hour : 11\n",
      "Hourly Mape: 11  =  5.990203752244631\n",
      "Coefficients : 11 [0.22499243 0.66359268]\n",
      "------------------------------------------\n",
      "Hour : 12\n",
      "Hourly Mape: 12  =  6.233275014128236\n",
      "Coefficients : 12 [0.28020663 0.6131376 ]\n",
      "------------------------------------------\n",
      "Hour : 13\n",
      "Hourly Mape: 13  =  6.355180482822783\n",
      "Coefficients : 13 [0.30354907 0.58679967]\n",
      "------------------------------------------\n",
      "Hour : 14\n",
      "Hourly Mape: 14  =  6.189651126065512\n",
      "Coefficients : 14 [0.25972764 0.62555866]\n",
      "------------------------------------------\n",
      "Hour : 15\n",
      "Hourly Mape: 15  =  5.845918947962948\n",
      "Coefficients : 15 [0.2563915  0.63194202]\n",
      "------------------------------------------\n",
      "Hour : 16\n",
      "Hourly Mape: 16  =  4.968481368201397\n",
      "Coefficients : 16 [0.24710827 0.64563012]\n",
      "------------------------------------------\n",
      "Hour : 17\n",
      "Hourly Mape: 17  =  4.5064094003658\n",
      "Coefficients : 17 [0.26209162 0.64307491]\n",
      "------------------------------------------\n",
      "Hour : 18\n",
      "Hourly Mape: 18  =  3.676733588225857\n",
      "Coefficients : 18 [0.33370881 0.58198418]\n",
      "------------------------------------------\n",
      "Hour : 19\n",
      "Hourly Mape: 19  =  3.3815752118398974\n",
      "Coefficients : 19 [0.38685809 0.52509495]\n",
      "------------------------------------------\n",
      "Hour : 20\n",
      "Hourly Mape: 20  =  3.1174549056999283\n",
      "Coefficients : 20 [0.40803295 0.51436979]\n",
      "------------------------------------------\n",
      "Hour : 21\n",
      "Hourly Mape: 21  =  3.1112599137980146\n",
      "Coefficients : 21 [0.42909218 0.49542319]\n",
      "------------------------------------------\n",
      "Hour : 22\n",
      "Hourly Mape: 22  =  3.12649152112829\n",
      "Coefficients : 22 [0.44270032 0.47538196]\n",
      "------------------------------------------\n",
      "Hour : 23\n",
      "Hourly Mape: 23  =  3.356428086829711\n",
      "Coefficients : 23 [0.45108169 0.4720343 ]\n"
     ]
    }
   ],
   "source": [
    "mapes = []\n",
    "for i in range(24):\n",
    "    temp_train = train_df[train_df[\"Saat\"] == i]\n",
    "    tempy_train = temp_train[\"mwh\"]\n",
    "    tempx_train = temp_train.drop([\"mwh\",\"Tarih\"], axis = 1)\n",
    "    temp_test = test_df[test_df[\"Saat\"] == i]\n",
    "    tempy_test = temp_test[\"mwh\"]\n",
    "    tempx_test = temp_test.drop([\"mwh\",\"Tarih\"], axis = 1)\n",
    "    k = lin_reg (tempx_train, tempy_train, tempx_test, tempy_test)\n",
    "    mapes.append(k[1])\n",
    "    print(\"------------------------------------------\")\n",
    "    print(\"Hour :\", i)\n",
    "    print(\"Hourly Mape:\", i , \" = \", k[1])\n",
    "    print(\"Coefficients :\", i, k[2][1:3])\n",
    "    "
   ]
  },
  {
   "cell_type": "code",
   "execution_count": 39,
   "metadata": {},
   "outputs": [
    {
     "name": "stdout",
     "output_type": "stream",
     "text": [
      "Hour 0 = 3.267\n",
      "Hour 1 = 3.27\n",
      "Hour 2 = 3.388\n",
      "Hour 3 = 3.19\n",
      "Hour 4 = 3.168\n",
      "Hour 5 = 3.157\n",
      "Hour 6 = 3.131\n",
      "Hour 7 = 3.747\n",
      "Hour 8 = 4.59\n",
      "Hour 9 = 5.3\n",
      "Hour 10 = 5.842\n",
      "Hour 11 = 5.99\n",
      "Hour 12 = 6.233\n",
      "Hour 13 = 6.355\n",
      "Hour 14 = 6.19\n",
      "Hour 15 = 5.846\n",
      "Hour 16 = 4.968\n",
      "Hour 17 = 4.506\n",
      "Hour 18 = 3.677\n",
      "Hour 19 = 3.382\n",
      "Hour 20 = 3.117\n",
      "Hour 21 = 3.111\n",
      "Hour 22 = 3.126\n",
      "Hour 23 = 3.356\n"
     ]
    }
   ],
   "source": [
    "for i in range(len(mapes)):\n",
    "    print(\"Hour\", i, \"=\", round(mapes[i], 3))"
   ]
  },
  {
   "cell_type": "code",
   "execution_count": 40,
   "metadata": {},
   "outputs": [
    {
     "data": {
      "text/plain": [
       "4.246242302041696"
      ]
     },
     "execution_count": 40,
     "metadata": {},
     "output_type": "execute_result"
    }
   ],
   "source": [
    "statistics.mean(mapes)"
   ]
  },
  {
   "cell_type": "code",
   "execution_count": 41,
   "metadata": {},
   "outputs": [
    {
     "data": {
      "text/plain": [
       "3.2898485584497843"
      ]
     },
     "execution_count": 41,
     "metadata": {},
     "output_type": "execute_result"
    }
   ],
   "source": [
    "# 00:00 - 07:00 average mape value\n",
    "statistics.mean(mapes[0:8])"
   ]
  },
  {
   "cell_type": "code",
   "execution_count": 42,
   "metadata": {},
   "outputs": [
    {
     "data": {
      "text/plain": [
       "5.793274098164193"
      ]
     },
     "execution_count": 42,
     "metadata": {},
     "output_type": "execute_result"
    }
   ],
   "source": [
    "# 08:00 - 17:00 average mape value\n",
    "statistics.mean(mapes[8:16])"
   ]
  },
  {
   "cell_type": "code",
   "execution_count": 43,
   "metadata": {},
   "outputs": [
    {
     "data": {
      "text/plain": [
       "3.655604249511112"
      ]
     },
     "execution_count": 43,
     "metadata": {},
     "output_type": "execute_result"
    }
   ],
   "source": [
    "# 17:00 - 24:00 average mape value\n",
    "statistics.mean(mapes[16:24])"
   ]
  },
  {
   "cell_type": "markdown",
   "metadata": {},
   "source": [
    "- MAPE Lag 48 = 7.789  \n",
    "- MAPE Lag 168 = 3.453  \n",
    "- MAPE Linear Regression = 4.129\n",
    "- MAPE Linear Regression(hourly prediction average) = 4.246\n",
    "- MAPE Linear Regression (00:00 - 07:00 hours)  = 3.289\n",
    "- MAPE Linear Regression (08:00 - 17:00 hours)  = 5.793\n",
    "- MAPE Linear Regression (17:00 - 24:00 hours)  = 3.655"
   ]
  },
  {
   "cell_type": "markdown",
   "metadata": {},
   "source": [
    "Hourly prediction looks successful between 00:00 - 07:00 and 17:00 - 24:00 hours, but avarege mape value for all day is slightly worse than part b model and it still get behind the lag_168 regressor."
   ]
  },
  {
   "cell_type": "markdown",
   "metadata": {},
   "source": [
    "## Task D"
   ]
  },
  {
   "cell_type": "code",
   "execution_count": 60,
   "metadata": {},
   "outputs": [],
   "source": [
    "df2 = df.copy()"
   ]
  },
  {
   "cell_type": "code",
   "execution_count": 64,
   "metadata": {},
   "outputs": [],
   "source": [
    "wide_df = df2.pivot_table(index='Tarih', columns='Saat', values=[\"lag_48\",\"lag_168\",\"mwh\"])\n",
    "wide_df.dropna(axis = 0, how = \"any\", inplace = True)\n"
   ]
  },
  {
   "cell_type": "code",
   "execution_count": 66,
   "metadata": {},
   "outputs": [
    {
     "data": {
      "text/html": [
       "<div>\n",
       "<style scoped>\n",
       "    .dataframe tbody tr th:only-of-type {\n",
       "        vertical-align: middle;\n",
       "    }\n",
       "\n",
       "    .dataframe tbody tr th {\n",
       "        vertical-align: top;\n",
       "    }\n",
       "\n",
       "    .dataframe thead tr th {\n",
       "        text-align: left;\n",
       "    }\n",
       "\n",
       "    .dataframe thead tr:last-of-type th {\n",
       "        text-align: right;\n",
       "    }\n",
       "</style>\n",
       "<table border=\"1\" class=\"dataframe\">\n",
       "  <thead>\n",
       "    <tr>\n",
       "      <th></th>\n",
       "      <th colspan=\"24\" halign=\"left\">lag_168</th>\n",
       "      <th colspan=\"24\" halign=\"left\">lag_48</th>\n",
       "      <th colspan=\"24\" halign=\"left\">mwh</th>\n",
       "    </tr>\n",
       "    <tr>\n",
       "      <th>Saat</th>\n",
       "      <th>0</th>\n",
       "      <th>1</th>\n",
       "      <th>2</th>\n",
       "      <th>3</th>\n",
       "      <th>4</th>\n",
       "      <th>5</th>\n",
       "      <th>6</th>\n",
       "      <th>7</th>\n",
       "      <th>8</th>\n",
       "      <th>9</th>\n",
       "      <th>10</th>\n",
       "      <th>11</th>\n",
       "      <th>12</th>\n",
       "      <th>13</th>\n",
       "      <th>14</th>\n",
       "      <th>15</th>\n",
       "      <th>16</th>\n",
       "      <th>17</th>\n",
       "      <th>18</th>\n",
       "      <th>19</th>\n",
       "      <th>20</th>\n",
       "      <th>21</th>\n",
       "      <th>22</th>\n",
       "      <th>23</th>\n",
       "      <th>0</th>\n",
       "      <th>1</th>\n",
       "      <th>2</th>\n",
       "      <th>3</th>\n",
       "      <th>4</th>\n",
       "      <th>5</th>\n",
       "      <th>6</th>\n",
       "      <th>7</th>\n",
       "      <th>8</th>\n",
       "      <th>9</th>\n",
       "      <th>10</th>\n",
       "      <th>11</th>\n",
       "      <th>12</th>\n",
       "      <th>13</th>\n",
       "      <th>14</th>\n",
       "      <th>15</th>\n",
       "      <th>16</th>\n",
       "      <th>17</th>\n",
       "      <th>18</th>\n",
       "      <th>19</th>\n",
       "      <th>20</th>\n",
       "      <th>21</th>\n",
       "      <th>22</th>\n",
       "      <th>23</th>\n",
       "      <th>0</th>\n",
       "      <th>1</th>\n",
       "      <th>2</th>\n",
       "      <th>3</th>\n",
       "      <th>4</th>\n",
       "      <th>5</th>\n",
       "      <th>6</th>\n",
       "      <th>7</th>\n",
       "      <th>8</th>\n",
       "      <th>9</th>\n",
       "      <th>10</th>\n",
       "      <th>11</th>\n",
       "      <th>12</th>\n",
       "      <th>13</th>\n",
       "      <th>14</th>\n",
       "      <th>15</th>\n",
       "      <th>16</th>\n",
       "      <th>17</th>\n",
       "      <th>18</th>\n",
       "      <th>19</th>\n",
       "      <th>20</th>\n",
       "      <th>21</th>\n",
       "      <th>22</th>\n",
       "      <th>23</th>\n",
       "    </tr>\n",
       "    <tr>\n",
       "      <th>Tarih</th>\n",
       "      <th></th>\n",
       "      <th></th>\n",
       "      <th></th>\n",
       "      <th></th>\n",
       "      <th></th>\n",
       "      <th></th>\n",
       "      <th></th>\n",
       "      <th></th>\n",
       "      <th></th>\n",
       "      <th></th>\n",
       "      <th></th>\n",
       "      <th></th>\n",
       "      <th></th>\n",
       "      <th></th>\n",
       "      <th></th>\n",
       "      <th></th>\n",
       "      <th></th>\n",
       "      <th></th>\n",
       "      <th></th>\n",
       "      <th></th>\n",
       "      <th></th>\n",
       "      <th></th>\n",
       "      <th></th>\n",
       "      <th></th>\n",
       "      <th></th>\n",
       "      <th></th>\n",
       "      <th></th>\n",
       "      <th></th>\n",
       "      <th></th>\n",
       "      <th></th>\n",
       "      <th></th>\n",
       "      <th></th>\n",
       "      <th></th>\n",
       "      <th></th>\n",
       "      <th></th>\n",
       "      <th></th>\n",
       "      <th></th>\n",
       "      <th></th>\n",
       "      <th></th>\n",
       "      <th></th>\n",
       "      <th></th>\n",
       "      <th></th>\n",
       "      <th></th>\n",
       "      <th></th>\n",
       "      <th></th>\n",
       "      <th></th>\n",
       "      <th></th>\n",
       "      <th></th>\n",
       "      <th></th>\n",
       "      <th></th>\n",
       "      <th></th>\n",
       "      <th></th>\n",
       "      <th></th>\n",
       "      <th></th>\n",
       "      <th></th>\n",
       "      <th></th>\n",
       "      <th></th>\n",
       "      <th></th>\n",
       "      <th></th>\n",
       "      <th></th>\n",
       "      <th></th>\n",
       "      <th></th>\n",
       "      <th></th>\n",
       "      <th></th>\n",
       "      <th></th>\n",
       "      <th></th>\n",
       "      <th></th>\n",
       "      <th></th>\n",
       "      <th></th>\n",
       "      <th></th>\n",
       "      <th></th>\n",
       "      <th></th>\n",
       "    </tr>\n",
       "  </thead>\n",
       "  <tbody>\n",
       "    <tr>\n",
       "      <th>2020-11-26</th>\n",
       "      <td>33455.97</td>\n",
       "      <td>31805.17</td>\n",
       "      <td>30698.22</td>\n",
       "      <td>29846.76</td>\n",
       "      <td>29600.96</td>\n",
       "      <td>29899.31</td>\n",
       "      <td>30743.88</td>\n",
       "      <td>32074.70</td>\n",
       "      <td>35610.62</td>\n",
       "      <td>37711.29</td>\n",
       "      <td>38233.15</td>\n",
       "      <td>38704.74</td>\n",
       "      <td>37415.32</td>\n",
       "      <td>38196.98</td>\n",
       "      <td>39412.98</td>\n",
       "      <td>39853.82</td>\n",
       "      <td>40918.91</td>\n",
       "      <td>42208.11</td>\n",
       "      <td>41673.45</td>\n",
       "      <td>40553.66</td>\n",
       "      <td>39499.32</td>\n",
       "      <td>38429.24</td>\n",
       "      <td>37270.44</td>\n",
       "      <td>35731.83</td>\n",
       "      <td>33520.81</td>\n",
       "      <td>31518.27</td>\n",
       "      <td>30513.78</td>\n",
       "      <td>29844.10</td>\n",
       "      <td>29650.85</td>\n",
       "      <td>29873.42</td>\n",
       "      <td>30934.51</td>\n",
       "      <td>32239.30</td>\n",
       "      <td>35946.87</td>\n",
       "      <td>37504.70</td>\n",
       "      <td>37515.08</td>\n",
       "      <td>37261.41</td>\n",
       "      <td>35845.55</td>\n",
       "      <td>36583.20</td>\n",
       "      <td>37830.17</td>\n",
       "      <td>38656.92</td>\n",
       "      <td>40396.69</td>\n",
       "      <td>42486.34</td>\n",
       "      <td>42255.24</td>\n",
       "      <td>40895.17</td>\n",
       "      <td>39240.65</td>\n",
       "      <td>38366.41</td>\n",
       "      <td>37446.73</td>\n",
       "      <td>36186.83</td>\n",
       "      <td>33902.71</td>\n",
       "      <td>32459.36</td>\n",
       "      <td>31023.35</td>\n",
       "      <td>30190.73</td>\n",
       "      <td>30055.35</td>\n",
       "      <td>30335.29</td>\n",
       "      <td>31201.79</td>\n",
       "      <td>32775.21</td>\n",
       "      <td>36882.21</td>\n",
       "      <td>39059.09</td>\n",
       "      <td>39295.57</td>\n",
       "      <td>39312.61</td>\n",
       "      <td>37508.66</td>\n",
       "      <td>38124.78</td>\n",
       "      <td>39220.21</td>\n",
       "      <td>39460.82</td>\n",
       "      <td>40532.72</td>\n",
       "      <td>42347.17</td>\n",
       "      <td>42312.06</td>\n",
       "      <td>40834.67</td>\n",
       "      <td>39520.36</td>\n",
       "      <td>38511.88</td>\n",
       "      <td>37607.20</td>\n",
       "      <td>36156.08</td>\n",
       "    </tr>\n",
       "    <tr>\n",
       "      <th>2020-11-27</th>\n",
       "      <td>33651.81</td>\n",
       "      <td>31949.53</td>\n",
       "      <td>30832.30</td>\n",
       "      <td>29991.21</td>\n",
       "      <td>29795.53</td>\n",
       "      <td>29951.31</td>\n",
       "      <td>30758.76</td>\n",
       "      <td>32370.10</td>\n",
       "      <td>36386.47</td>\n",
       "      <td>39029.49</td>\n",
       "      <td>39834.37</td>\n",
       "      <td>40475.03</td>\n",
       "      <td>38482.23</td>\n",
       "      <td>39003.06</td>\n",
       "      <td>40727.71</td>\n",
       "      <td>40550.85</td>\n",
       "      <td>40976.32</td>\n",
       "      <td>41854.37</td>\n",
       "      <td>41564.30</td>\n",
       "      <td>40221.79</td>\n",
       "      <td>38875.45</td>\n",
       "      <td>37749.83</td>\n",
       "      <td>36786.90</td>\n",
       "      <td>35102.41</td>\n",
       "      <td>33585.86</td>\n",
       "      <td>32175.55</td>\n",
       "      <td>31064.86</td>\n",
       "      <td>30213.43</td>\n",
       "      <td>29958.96</td>\n",
       "      <td>30234.26</td>\n",
       "      <td>31138.64</td>\n",
       "      <td>32838.39</td>\n",
       "      <td>36634.41</td>\n",
       "      <td>38845.22</td>\n",
       "      <td>39507.26</td>\n",
       "      <td>39896.53</td>\n",
       "      <td>38446.53</td>\n",
       "      <td>39059.04</td>\n",
       "      <td>40148.58</td>\n",
       "      <td>40330.14</td>\n",
       "      <td>41279.40</td>\n",
       "      <td>42837.79</td>\n",
       "      <td>42412.80</td>\n",
       "      <td>41146.25</td>\n",
       "      <td>39591.41</td>\n",
       "      <td>38420.42</td>\n",
       "      <td>37519.53</td>\n",
       "      <td>36160.62</td>\n",
       "      <td>33896.52</td>\n",
       "      <td>31841.72</td>\n",
       "      <td>30897.69</td>\n",
       "      <td>30191.20</td>\n",
       "      <td>29956.10</td>\n",
       "      <td>30199.97</td>\n",
       "      <td>31015.63</td>\n",
       "      <td>32518.79</td>\n",
       "      <td>36129.99</td>\n",
       "      <td>37851.53</td>\n",
       "      <td>37808.82</td>\n",
       "      <td>37668.32</td>\n",
       "      <td>35381.81</td>\n",
       "      <td>35587.14</td>\n",
       "      <td>37205.46</td>\n",
       "      <td>37760.66</td>\n",
       "      <td>39543.01</td>\n",
       "      <td>41895.73</td>\n",
       "      <td>42003.77</td>\n",
       "      <td>40806.68</td>\n",
       "      <td>39426.67</td>\n",
       "      <td>38446.22</td>\n",
       "      <td>37356.91</td>\n",
       "      <td>36119.57</td>\n",
       "    </tr>\n",
       "    <tr>\n",
       "      <th>2020-11-28</th>\n",
       "      <td>33697.36</td>\n",
       "      <td>31916.72</td>\n",
       "      <td>30692.47</td>\n",
       "      <td>29828.03</td>\n",
       "      <td>29425.40</td>\n",
       "      <td>29748.05</td>\n",
       "      <td>30186.14</td>\n",
       "      <td>30564.89</td>\n",
       "      <td>32613.91</td>\n",
       "      <td>34058.84</td>\n",
       "      <td>34969.54</td>\n",
       "      <td>35792.39</td>\n",
       "      <td>34480.23</td>\n",
       "      <td>35028.71</td>\n",
       "      <td>35312.45</td>\n",
       "      <td>35408.44</td>\n",
       "      <td>36581.59</td>\n",
       "      <td>38630.06</td>\n",
       "      <td>39379.15</td>\n",
       "      <td>38432.76</td>\n",
       "      <td>37293.60</td>\n",
       "      <td>36304.68</td>\n",
       "      <td>35250.20</td>\n",
       "      <td>33817.76</td>\n",
       "      <td>33902.71</td>\n",
       "      <td>32459.36</td>\n",
       "      <td>31023.35</td>\n",
       "      <td>30190.73</td>\n",
       "      <td>30055.35</td>\n",
       "      <td>30335.29</td>\n",
       "      <td>31201.79</td>\n",
       "      <td>32775.21</td>\n",
       "      <td>36882.21</td>\n",
       "      <td>39059.09</td>\n",
       "      <td>39295.57</td>\n",
       "      <td>39312.61</td>\n",
       "      <td>37508.66</td>\n",
       "      <td>38124.78</td>\n",
       "      <td>39220.21</td>\n",
       "      <td>39460.82</td>\n",
       "      <td>40532.72</td>\n",
       "      <td>42347.17</td>\n",
       "      <td>42312.06</td>\n",
       "      <td>40834.67</td>\n",
       "      <td>39520.36</td>\n",
       "      <td>38511.88</td>\n",
       "      <td>37607.20</td>\n",
       "      <td>36156.08</td>\n",
       "      <td>33935.56</td>\n",
       "      <td>31919.44</td>\n",
       "      <td>30439.27</td>\n",
       "      <td>30020.41</td>\n",
       "      <td>29825.63</td>\n",
       "      <td>29984.86</td>\n",
       "      <td>30444.97</td>\n",
       "      <td>31159.67</td>\n",
       "      <td>33325.74</td>\n",
       "      <td>34868.28</td>\n",
       "      <td>35457.72</td>\n",
       "      <td>35822.08</td>\n",
       "      <td>34607.24</td>\n",
       "      <td>34962.65</td>\n",
       "      <td>35338.14</td>\n",
       "      <td>35645.57</td>\n",
       "      <td>36905.20</td>\n",
       "      <td>39131.92</td>\n",
       "      <td>40203.21</td>\n",
       "      <td>39037.18</td>\n",
       "      <td>38044.69</td>\n",
       "      <td>37128.89</td>\n",
       "      <td>36016.67</td>\n",
       "      <td>34500.14</td>\n",
       "    </tr>\n",
       "    <tr>\n",
       "      <th>2020-11-29</th>\n",
       "      <td>31685.68</td>\n",
       "      <td>30105.78</td>\n",
       "      <td>28703.45</td>\n",
       "      <td>28072.20</td>\n",
       "      <td>27651.60</td>\n",
       "      <td>27566.19</td>\n",
       "      <td>27737.26</td>\n",
       "      <td>27439.05</td>\n",
       "      <td>26905.24</td>\n",
       "      <td>27247.25</td>\n",
       "      <td>27974.74</td>\n",
       "      <td>28525.59</td>\n",
       "      <td>28433.65</td>\n",
       "      <td>28962.66</td>\n",
       "      <td>29334.07</td>\n",
       "      <td>30301.50</td>\n",
       "      <td>32108.31</td>\n",
       "      <td>34919.68</td>\n",
       "      <td>36647.32</td>\n",
       "      <td>35999.47</td>\n",
       "      <td>35183.37</td>\n",
       "      <td>34230.51</td>\n",
       "      <td>33602.91</td>\n",
       "      <td>32178.03</td>\n",
       "      <td>33896.52</td>\n",
       "      <td>31841.72</td>\n",
       "      <td>30897.69</td>\n",
       "      <td>30191.20</td>\n",
       "      <td>29956.10</td>\n",
       "      <td>30199.97</td>\n",
       "      <td>31015.63</td>\n",
       "      <td>32518.79</td>\n",
       "      <td>36129.99</td>\n",
       "      <td>37851.53</td>\n",
       "      <td>37808.82</td>\n",
       "      <td>37668.32</td>\n",
       "      <td>35381.81</td>\n",
       "      <td>35587.14</td>\n",
       "      <td>37205.46</td>\n",
       "      <td>37760.66</td>\n",
       "      <td>39543.01</td>\n",
       "      <td>41895.73</td>\n",
       "      <td>42003.77</td>\n",
       "      <td>40806.68</td>\n",
       "      <td>39426.67</td>\n",
       "      <td>38446.22</td>\n",
       "      <td>37356.91</td>\n",
       "      <td>36119.57</td>\n",
       "      <td>32332.68</td>\n",
       "      <td>30410.13</td>\n",
       "      <td>29119.33</td>\n",
       "      <td>28484.61</td>\n",
       "      <td>28150.14</td>\n",
       "      <td>28065.44</td>\n",
       "      <td>28189.16</td>\n",
       "      <td>27883.71</td>\n",
       "      <td>27219.84</td>\n",
       "      <td>27521.40</td>\n",
       "      <td>28332.10</td>\n",
       "      <td>29003.50</td>\n",
       "      <td>28748.98</td>\n",
       "      <td>29081.29</td>\n",
       "      <td>29682.72</td>\n",
       "      <td>30568.06</td>\n",
       "      <td>32342.53</td>\n",
       "      <td>35411.15</td>\n",
       "      <td>36984.04</td>\n",
       "      <td>36310.77</td>\n",
       "      <td>35383.08</td>\n",
       "      <td>34491.45</td>\n",
       "      <td>33698.14</td>\n",
       "      <td>32295.74</td>\n",
       "    </tr>\n",
       "    <tr>\n",
       "      <th>2020-11-30</th>\n",
       "      <td>30426.00</td>\n",
       "      <td>29097.77</td>\n",
       "      <td>28176.27</td>\n",
       "      <td>27599.20</td>\n",
       "      <td>27238.99</td>\n",
       "      <td>27754.59</td>\n",
       "      <td>28747.47</td>\n",
       "      <td>30989.04</td>\n",
       "      <td>35068.99</td>\n",
       "      <td>36907.37</td>\n",
       "      <td>37012.71</td>\n",
       "      <td>36950.05</td>\n",
       "      <td>35296.28</td>\n",
       "      <td>35986.82</td>\n",
       "      <td>37089.41</td>\n",
       "      <td>37586.08</td>\n",
       "      <td>39435.91</td>\n",
       "      <td>41569.99</td>\n",
       "      <td>41710.94</td>\n",
       "      <td>40297.34</td>\n",
       "      <td>38951.67</td>\n",
       "      <td>37856.67</td>\n",
       "      <td>36983.95</td>\n",
       "      <td>35594.03</td>\n",
       "      <td>33935.56</td>\n",
       "      <td>31919.44</td>\n",
       "      <td>30439.27</td>\n",
       "      <td>30020.41</td>\n",
       "      <td>29825.63</td>\n",
       "      <td>29984.86</td>\n",
       "      <td>30444.97</td>\n",
       "      <td>31159.67</td>\n",
       "      <td>33325.74</td>\n",
       "      <td>34868.28</td>\n",
       "      <td>35457.72</td>\n",
       "      <td>35822.08</td>\n",
       "      <td>34607.24</td>\n",
       "      <td>34962.65</td>\n",
       "      <td>35338.14</td>\n",
       "      <td>35645.57</td>\n",
       "      <td>36905.20</td>\n",
       "      <td>39131.92</td>\n",
       "      <td>40203.21</td>\n",
       "      <td>39037.18</td>\n",
       "      <td>38044.69</td>\n",
       "      <td>37128.89</td>\n",
       "      <td>36016.67</td>\n",
       "      <td>34500.14</td>\n",
       "      <td>30828.40</td>\n",
       "      <td>29350.31</td>\n",
       "      <td>27689.33</td>\n",
       "      <td>27608.55</td>\n",
       "      <td>27566.71</td>\n",
       "      <td>27897.84</td>\n",
       "      <td>28873.20</td>\n",
       "      <td>31137.18</td>\n",
       "      <td>35801.80</td>\n",
       "      <td>38418.47</td>\n",
       "      <td>39192.32</td>\n",
       "      <td>39662.29</td>\n",
       "      <td>37989.93</td>\n",
       "      <td>38856.83</td>\n",
       "      <td>40062.14</td>\n",
       "      <td>40599.60</td>\n",
       "      <td>41677.91</td>\n",
       "      <td>43043.60</td>\n",
       "      <td>42245.38</td>\n",
       "      <td>40750.73</td>\n",
       "      <td>39294.57</td>\n",
       "      <td>38212.74</td>\n",
       "      <td>37225.65</td>\n",
       "      <td>35775.04</td>\n",
       "    </tr>\n",
       "  </tbody>\n",
       "</table>\n",
       "</div>"
      ],
      "text/plain": [
       "             lag_168                                                    \\\n",
       "Saat              0         1         2         3         4         5    \n",
       "Tarih                                                                    \n",
       "2020-11-26  33455.97  31805.17  30698.22  29846.76  29600.96  29899.31   \n",
       "2020-11-27  33651.81  31949.53  30832.30  29991.21  29795.53  29951.31   \n",
       "2020-11-28  33697.36  31916.72  30692.47  29828.03  29425.40  29748.05   \n",
       "2020-11-29  31685.68  30105.78  28703.45  28072.20  27651.60  27566.19   \n",
       "2020-11-30  30426.00  29097.77  28176.27  27599.20  27238.99  27754.59   \n",
       "\n",
       "                                                                        \\\n",
       "Saat              6         7         8         9         10        11   \n",
       "Tarih                                                                    \n",
       "2020-11-26  30743.88  32074.70  35610.62  37711.29  38233.15  38704.74   \n",
       "2020-11-27  30758.76  32370.10  36386.47  39029.49  39834.37  40475.03   \n",
       "2020-11-28  30186.14  30564.89  32613.91  34058.84  34969.54  35792.39   \n",
       "2020-11-29  27737.26  27439.05  26905.24  27247.25  27974.74  28525.59   \n",
       "2020-11-30  28747.47  30989.04  35068.99  36907.37  37012.71  36950.05   \n",
       "\n",
       "                                                                        \\\n",
       "Saat              12        13        14        15        16        17   \n",
       "Tarih                                                                    \n",
       "2020-11-26  37415.32  38196.98  39412.98  39853.82  40918.91  42208.11   \n",
       "2020-11-27  38482.23  39003.06  40727.71  40550.85  40976.32  41854.37   \n",
       "2020-11-28  34480.23  35028.71  35312.45  35408.44  36581.59  38630.06   \n",
       "2020-11-29  28433.65  28962.66  29334.07  30301.50  32108.31  34919.68   \n",
       "2020-11-30  35296.28  35986.82  37089.41  37586.08  39435.91  41569.99   \n",
       "\n",
       "                                                                        \\\n",
       "Saat              18        19        20        21        22        23   \n",
       "Tarih                                                                    \n",
       "2020-11-26  41673.45  40553.66  39499.32  38429.24  37270.44  35731.83   \n",
       "2020-11-27  41564.30  40221.79  38875.45  37749.83  36786.90  35102.41   \n",
       "2020-11-28  39379.15  38432.76  37293.60  36304.68  35250.20  33817.76   \n",
       "2020-11-29  36647.32  35999.47  35183.37  34230.51  33602.91  32178.03   \n",
       "2020-11-30  41710.94  40297.34  38951.67  37856.67  36983.95  35594.03   \n",
       "\n",
       "              lag_48                                                    \\\n",
       "Saat              0         1         2         3         4         5    \n",
       "Tarih                                                                    \n",
       "2020-11-26  33520.81  31518.27  30513.78  29844.10  29650.85  29873.42   \n",
       "2020-11-27  33585.86  32175.55  31064.86  30213.43  29958.96  30234.26   \n",
       "2020-11-28  33902.71  32459.36  31023.35  30190.73  30055.35  30335.29   \n",
       "2020-11-29  33896.52  31841.72  30897.69  30191.20  29956.10  30199.97   \n",
       "2020-11-30  33935.56  31919.44  30439.27  30020.41  29825.63  29984.86   \n",
       "\n",
       "                                                                        \\\n",
       "Saat              6         7         8         9         10        11   \n",
       "Tarih                                                                    \n",
       "2020-11-26  30934.51  32239.30  35946.87  37504.70  37515.08  37261.41   \n",
       "2020-11-27  31138.64  32838.39  36634.41  38845.22  39507.26  39896.53   \n",
       "2020-11-28  31201.79  32775.21  36882.21  39059.09  39295.57  39312.61   \n",
       "2020-11-29  31015.63  32518.79  36129.99  37851.53  37808.82  37668.32   \n",
       "2020-11-30  30444.97  31159.67  33325.74  34868.28  35457.72  35822.08   \n",
       "\n",
       "                                                                        \\\n",
       "Saat              12        13        14        15        16        17   \n",
       "Tarih                                                                    \n",
       "2020-11-26  35845.55  36583.20  37830.17  38656.92  40396.69  42486.34   \n",
       "2020-11-27  38446.53  39059.04  40148.58  40330.14  41279.40  42837.79   \n",
       "2020-11-28  37508.66  38124.78  39220.21  39460.82  40532.72  42347.17   \n",
       "2020-11-29  35381.81  35587.14  37205.46  37760.66  39543.01  41895.73   \n",
       "2020-11-30  34607.24  34962.65  35338.14  35645.57  36905.20  39131.92   \n",
       "\n",
       "                                                                        \\\n",
       "Saat              18        19        20        21        22        23   \n",
       "Tarih                                                                    \n",
       "2020-11-26  42255.24  40895.17  39240.65  38366.41  37446.73  36186.83   \n",
       "2020-11-27  42412.80  41146.25  39591.41  38420.42  37519.53  36160.62   \n",
       "2020-11-28  42312.06  40834.67  39520.36  38511.88  37607.20  36156.08   \n",
       "2020-11-29  42003.77  40806.68  39426.67  38446.22  37356.91  36119.57   \n",
       "2020-11-30  40203.21  39037.18  38044.69  37128.89  36016.67  34500.14   \n",
       "\n",
       "                 mwh                                                    \\\n",
       "Saat              0         1         2         3         4         5    \n",
       "Tarih                                                                    \n",
       "2020-11-26  33902.71  32459.36  31023.35  30190.73  30055.35  30335.29   \n",
       "2020-11-27  33896.52  31841.72  30897.69  30191.20  29956.10  30199.97   \n",
       "2020-11-28  33935.56  31919.44  30439.27  30020.41  29825.63  29984.86   \n",
       "2020-11-29  32332.68  30410.13  29119.33  28484.61  28150.14  28065.44   \n",
       "2020-11-30  30828.40  29350.31  27689.33  27608.55  27566.71  27897.84   \n",
       "\n",
       "                                                                        \\\n",
       "Saat              6         7         8         9         10        11   \n",
       "Tarih                                                                    \n",
       "2020-11-26  31201.79  32775.21  36882.21  39059.09  39295.57  39312.61   \n",
       "2020-11-27  31015.63  32518.79  36129.99  37851.53  37808.82  37668.32   \n",
       "2020-11-28  30444.97  31159.67  33325.74  34868.28  35457.72  35822.08   \n",
       "2020-11-29  28189.16  27883.71  27219.84  27521.40  28332.10  29003.50   \n",
       "2020-11-30  28873.20  31137.18  35801.80  38418.47  39192.32  39662.29   \n",
       "\n",
       "                                                                        \\\n",
       "Saat              12        13        14        15        16        17   \n",
       "Tarih                                                                    \n",
       "2020-11-26  37508.66  38124.78  39220.21  39460.82  40532.72  42347.17   \n",
       "2020-11-27  35381.81  35587.14  37205.46  37760.66  39543.01  41895.73   \n",
       "2020-11-28  34607.24  34962.65  35338.14  35645.57  36905.20  39131.92   \n",
       "2020-11-29  28748.98  29081.29  29682.72  30568.06  32342.53  35411.15   \n",
       "2020-11-30  37989.93  38856.83  40062.14  40599.60  41677.91  43043.60   \n",
       "\n",
       "                                                                        \n",
       "Saat              18        19        20        21        22        23  \n",
       "Tarih                                                                   \n",
       "2020-11-26  42312.06  40834.67  39520.36  38511.88  37607.20  36156.08  \n",
       "2020-11-27  42003.77  40806.68  39426.67  38446.22  37356.91  36119.57  \n",
       "2020-11-28  40203.21  39037.18  38044.69  37128.89  36016.67  34500.14  \n",
       "2020-11-29  36984.04  36310.77  35383.08  34491.45  33698.14  32295.74  \n",
       "2020-11-30  42245.38  40750.73  39294.57  38212.74  37225.65  35775.04  "
      ]
     },
     "execution_count": 66,
     "metadata": {},
     "output_type": "execute_result"
    }
   ],
   "source": [
    "wide_df.tail()"
   ]
  },
  {
   "cell_type": "code",
   "execution_count": 68,
   "metadata": {},
   "outputs": [],
   "source": [
    "wide_df.reset_index(inplace = True)"
   ]
  },
  {
   "cell_type": "code",
   "execution_count": 82,
   "metadata": {},
   "outputs": [],
   "source": [
    "wide_train = wide_df[wide_df[\"Tarih\"] < \"2020-11-01\"]\n",
    "wide_train_x = wide_train[[\"lag_168\", \"lag_48\"]]\n",
    "wide_train_y = wide_train[\"mwh\"]"
   ]
  },
  {
   "cell_type": "code",
   "execution_count": 83,
   "metadata": {},
   "outputs": [],
   "source": [
    "wide_test = wide_df[wide_df[\"Tarih\"] >= \"2020-11-01\"]\n",
    "wide_test_x = wide_test[[\"lag_168\", \"lag_48\"]]\n",
    "wide_test_y = wide_test[\"mwh\"]"
   ]
  },
  {
   "cell_type": "code",
   "execution_count": 77,
   "metadata": {},
   "outputs": [],
   "source": [
    "from sklearn.linear_model import LassoCV"
   ]
  },
  {
   "cell_type": "code",
   "execution_count": 102,
   "metadata": {},
   "outputs": [],
   "source": [
    "def lasso_cv (x_train, y_train, x_test, y_test):\n",
    "    model = LassoCV(cv=10, random_state=42, max_iter = 10000, n_jobs = -1)\n",
    "    model.fit(x_train,y_train)\n",
    "    yy_pred = model.predict(x_test)\n",
    "    mape_res = mape(y_test, yy_pred)\n",
    "    alpha = model.alpha_\n",
    "    return yy_pred, mape_res, alpha"
   ]
  },
  {
   "cell_type": "code",
   "execution_count": 103,
   "metadata": {},
   "outputs": [
    {
     "name": "stdout",
     "output_type": "stream",
     "text": [
      "------------------------------------------\n",
      "Hour : 0\n",
      "Hourly Mape: 0  =  1.3846133780238932\n",
      "Choosen Alpha Value : 12431.332717836012\n",
      "------------------------------------------\n",
      "Hour : 1\n",
      "Hourly Mape: 1  =  1.481389413548434\n",
      "Choosen Alpha Value : 9632.3610763365\n",
      "------------------------------------------\n",
      "Hour : 2\n",
      "Hourly Mape: 2  =  1.4585815390954726\n",
      "Choosen Alpha Value : 9043.351109292304\n",
      "------------------------------------------\n",
      "Hour : 3\n",
      "Hourly Mape: 3  =  1.3412462856253229\n",
      "Choosen Alpha Value : 8654.95826046391\n",
      "------------------------------------------\n",
      "Hour : 4\n",
      "Hourly Mape: 4  =  1.3832583640359237\n",
      "Choosen Alpha Value : 8411.757499442334\n",
      "------------------------------------------\n",
      "Hour : 5\n",
      "Hourly Mape: 5  =  1.3909375211860535\n",
      "Choosen Alpha Value : 8070.515998479513\n",
      "------------------------------------------\n",
      "Hour : 6\n",
      "Hourly Mape: 6  =  1.6965215217321317\n",
      "Choosen Alpha Value : 8464.175808579437\n",
      "------------------------------------------\n",
      "Hour : 7\n",
      "Hourly Mape: 7  =  1.904685452544801\n",
      "Choosen Alpha Value : 11444.711931105021\n",
      "------------------------------------------\n",
      "Hour : 8\n",
      "Hourly Mape: 8  =  2.5506495714190818\n",
      "Choosen Alpha Value : 16293.008867499699\n",
      "------------------------------------------\n",
      "Hour : 9\n",
      "Hourly Mape: 9  =  3.5660978282285245\n",
      "Choosen Alpha Value : 18180.535501713264\n",
      "------------------------------------------\n",
      "Hour : 10\n",
      "Hourly Mape: 10  =  4.1563114094968965\n",
      "Choosen Alpha Value : 17649.079706206492\n",
      "------------------------------------------\n",
      "Hour : 11\n",
      "Hourly Mape: 11  =  4.353891602454665\n",
      "Choosen Alpha Value : 18542.434882190566\n",
      "------------------------------------------\n",
      "Hour : 12\n",
      "Hourly Mape: 12  =  4.558528704416456\n",
      "Choosen Alpha Value : 15601.12117974519\n",
      "------------------------------------------\n",
      "Hour : 13\n",
      "Hourly Mape: 13  =  4.431768996138376\n",
      "Choosen Alpha Value : 16569.175394335954\n",
      "------------------------------------------\n",
      "Hour : 14\n",
      "Hourly Mape: 14  =  4.281222346481046\n",
      "Choosen Alpha Value : 20333.993718257836\n",
      "------------------------------------------\n",
      "Hour : 15\n",
      "Hourly Mape: 15  =  3.8258703744702327\n",
      "Choosen Alpha Value : 21734.42806882633\n",
      "------------------------------------------\n",
      "Hour : 16\n",
      "Hourly Mape: 16  =  2.950538525491885\n",
      "Choosen Alpha Value : 21435.331038889064\n",
      "------------------------------------------\n",
      "Hour : 17\n",
      "Hourly Mape: 17  =  2.0833809686697813\n",
      "Choosen Alpha Value : 18601.250928595313\n",
      "------------------------------------------\n",
      "Hour : 18\n",
      "Hourly Mape: 18  =  1.6209210498705229\n",
      "Choosen Alpha Value : 20778.282353121725\n",
      "------------------------------------------\n",
      "Hour : 19\n",
      "Hourly Mape: 19  =  1.5956916613566468\n",
      "Choosen Alpha Value : 13696.86136099346\n",
      "------------------------------------------\n",
      "Hour : 20\n",
      "Hourly Mape: 20  =  1.709272497297899\n",
      "Choosen Alpha Value : 12637.36905741471\n",
      "------------------------------------------\n",
      "Hour : 21\n",
      "Hourly Mape: 21  =  1.7254122137042547\n",
      "Choosen Alpha Value : 16114.085338091456\n",
      "------------------------------------------\n",
      "Hour : 22\n",
      "Hourly Mape: 22  =  1.5560024024345007\n",
      "Choosen Alpha Value : 13545.5950665369\n",
      "------------------------------------------\n",
      "Hour : 23\n",
      "Hourly Mape: 23  =  1.8031372597578015\n",
      "Choosen Alpha Value : 11446.904368352147\n"
     ]
    }
   ],
   "source": [
    "mapes_lasso = []\n",
    "for i in range(24):\n",
    "    tempy_train = wide_train_y[i]\n",
    "    tempx_train = wide_train_x\n",
    "    tempy_test = wide_test_y[i]\n",
    "    tempx_test = wide_test_x\n",
    "    k = lasso_cv (tempx_train, tempy_train, tempx_test, tempy_test)\n",
    "    mapes_lasso.append(k[1])\n",
    "    print(\"------------------------------------------\")\n",
    "    print(\"Hour :\", i)\n",
    "    print(\"Hourly Mape:\", i , \" = \", k[1])\n",
    "    print(\"Choosen Alpha Value :\", k[2])\n",
    "    "
   ]
  },
  {
   "cell_type": "code",
   "execution_count": 111,
   "metadata": {},
   "outputs": [
    {
     "name": "stdout",
     "output_type": "stream",
     "text": [
      "Hour 0 = 1.385\n",
      "Hour 1 = 1.481\n",
      "Hour 2 = 1.459\n",
      "Hour 3 = 1.341\n",
      "Hour 4 = 1.383\n",
      "Hour 5 = 1.391\n",
      "Hour 6 = 1.697\n",
      "Hour 7 = 1.905\n",
      "Hour 8 = 2.551\n",
      "Hour 9 = 3.566\n",
      "Hour 10 = 4.156\n",
      "Hour 11 = 4.354\n",
      "Hour 12 = 4.559\n",
      "Hour 13 = 4.432\n",
      "Hour 14 = 4.281\n",
      "Hour 15 = 3.826\n",
      "Hour 16 = 2.951\n",
      "Hour 17 = 2.083\n",
      "Hour 18 = 1.621\n",
      "Hour 19 = 1.596\n",
      "Hour 20 = 1.709\n",
      "Hour 21 = 1.725\n",
      "Hour 22 = 1.556\n",
      "Hour 23 = 1.803\n"
     ]
    }
   ],
   "source": [
    "for i in range(len(mapes_lasso)):\n",
    "    print(\"Hour\", i, \"=\", round(mapes_lasso[i], 3))"
   ]
  },
  {
   "cell_type": "code",
   "execution_count": 112,
   "metadata": {},
   "outputs": [
    {
     "data": {
      "text/plain": [
       "2.4504137869783587"
      ]
     },
     "execution_count": 112,
     "metadata": {},
     "output_type": "execute_result"
    }
   ],
   "source": [
    "statistics.mean(mapes_lasso)"
   ]
  },
  {
   "cell_type": "code",
   "execution_count": 113,
   "metadata": {},
   "outputs": [
    {
     "data": {
      "text/plain": [
       "1.5051541844740042"
      ]
     },
     "execution_count": 113,
     "metadata": {},
     "output_type": "execute_result"
    }
   ],
   "source": [
    "# 00:00 - 07:00 average mape value\n",
    "statistics.mean(mapes_lasso[0:8])"
   ]
  },
  {
   "cell_type": "code",
   "execution_count": 114,
   "metadata": {},
   "outputs": [
    {
     "data": {
      "text/plain": [
       "3.9655426041381596"
      ]
     },
     "execution_count": 114,
     "metadata": {},
     "output_type": "execute_result"
    }
   ],
   "source": [
    "# 08:00 - 17:00 average mape value\n",
    "statistics.mean(mapes_lasso[8:16])"
   ]
  },
  {
   "cell_type": "code",
   "execution_count": 115,
   "metadata": {},
   "outputs": [
    {
     "data": {
      "text/plain": [
       "1.8805445723229115"
      ]
     },
     "execution_count": 115,
     "metadata": {},
     "output_type": "execute_result"
    }
   ],
   "source": [
    "# 17:00 - 24:00 average mape value\n",
    "statistics.mean(mapes_lasso[16:24])"
   ]
  },
  {
   "cell_type": "markdown",
   "metadata": {},
   "source": [
    "- MAPE Lag 48 = 7.789  \n",
    "- MAPE Lag 168 = 3.453  \n",
    "- MAPE Linear Regression = 4.129\n",
    "- MAPE Linear Regression(hourly prediction average) = 4.246\n",
    "- MAPE Lasso Regression with L1 Penalty (hourly prediction average) = 2.450\n",
    "- MAPE Lasso Regression (00:00 - 07:00 hours)  = 1.505\n",
    "- MAPE Lasso Regression (08:00 - 17:00 hours)  = 3.965\n",
    "- MAPE Lasso Regression (17:00 - 24:00 hours)  = 1.880\n",
    "\n"
   ]
  },
  {
   "cell_type": "markdown",
   "metadata": {},
   "source": [
    "Lasso regression model looks like best predictor for this task, its mape value is the lowest one. "
   ]
  },
  {
   "cell_type": "code",
   "execution_count": null,
   "metadata": {},
   "outputs": [],
   "source": []
  }
 ],
 "metadata": {
  "kernelspec": {
   "display_name": "Python 3",
   "language": "python",
   "name": "python3"
  },
  "language_info": {
   "codemirror_mode": {
    "name": "ipython",
    "version": 3
   },
   "file_extension": ".py",
   "mimetype": "text/x-python",
   "name": "python",
   "nbconvert_exporter": "python",
   "pygments_lexer": "ipython3",
   "version": "3.7.6"
  }
 },
 "nbformat": 4,
 "nbformat_minor": 4
}
